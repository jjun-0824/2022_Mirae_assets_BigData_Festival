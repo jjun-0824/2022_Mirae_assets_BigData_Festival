{
 "cells": [
  {
   "cell_type": "markdown",
   "id": "c6c3444c-79df-402e-9dac-72f7b9ab97a4",
   "metadata": {
    "jp-MarkdownHeadingCollapsed": true,
    "tags": []
   },
   "source": [
    "## 5_MAKE_train_test_data\n",
    "전처리가 완료된 데이터로부터 train과 test set을 만드는 코드입니다."
   ]
  },
  {
   "cell_type": "markdown",
   "id": "39d34568-012f-4c7c-b896-51bd10f1bba0",
   "metadata": {},
   "source": [
    "## 기본 설정"
   ]
  },
  {
   "cell_type": "code",
   "execution_count": 1,
   "id": "4f363884-262b-464c-b8e0-1cce9fc56591",
   "metadata": {},
   "outputs": [
    {
     "name": "stdout",
     "output_type": "stream",
     "text": [
      "Requirement already satisfied: google-cloud-aiplatform in ./.local/lib/python3.7/site-packages (1.18.1)\n",
      "Requirement already satisfied: packaging<22.0.0dev,>=14.3 in /opt/conda/lib/python3.7/site-packages (from google-cloud-aiplatform) (21.3)\n",
      "Requirement already satisfied: google-api-core[grpc]!=2.0.*,!=2.1.*,!=2.2.*,!=2.3.*,!=2.4.*,!=2.5.*,!=2.6.*,!=2.7.*,<3.0.0dev,>=1.32.0 in /opt/conda/lib/python3.7/site-packages (from google-cloud-aiplatform) (2.8.1)\n",
      "Requirement already satisfied: google-cloud-storage<3.0.0dev,>=1.32.0 in ./.local/lib/python3.7/site-packages (from google-cloud-aiplatform) (2.5.0)\n",
      "Requirement already satisfied: google-cloud-bigquery<3.0.0dev,>=1.15.0 in /opt/conda/lib/python3.7/site-packages (from google-cloud-aiplatform) (2.34.4)\n",
      "Requirement already satisfied: protobuf!=3.20.0,!=3.20.1,!=4.21.0,!=4.21.1,!=4.21.2,!=4.21.3,!=4.21.4,!=4.21.5,<5.0.0dev,>=3.19.5 in ./.local/lib/python3.7/site-packages (from google-cloud-aiplatform) (3.20.3)\n",
      "Requirement already satisfied: google-cloud-resource-manager<3.0.0dev,>=1.3.3 in /opt/conda/lib/python3.7/site-packages (from google-cloud-aiplatform) (1.6.0)\n",
      "Requirement already satisfied: proto-plus<2.0.0dev,>=1.22.0 in ./.local/lib/python3.7/site-packages (from google-cloud-aiplatform) (1.22.1)\n",
      "Requirement already satisfied: googleapis-common-protos<2.0dev,>=1.56.2 in /opt/conda/lib/python3.7/site-packages (from google-api-core[grpc]!=2.0.*,!=2.1.*,!=2.2.*,!=2.3.*,!=2.4.*,!=2.5.*,!=2.6.*,!=2.7.*,<3.0.0dev,>=1.32.0->google-cloud-aiplatform) (1.56.4)\n",
      "Requirement already satisfied: google-auth<3.0dev,>=1.25.0 in /opt/conda/lib/python3.7/site-packages (from google-api-core[grpc]!=2.0.*,!=2.1.*,!=2.2.*,!=2.3.*,!=2.4.*,!=2.5.*,!=2.6.*,!=2.7.*,<3.0.0dev,>=1.32.0->google-cloud-aiplatform) (1.35.0)\n",
      "Requirement already satisfied: requests<3.0.0dev,>=2.18.0 in /opt/conda/lib/python3.7/site-packages (from google-api-core[grpc]!=2.0.*,!=2.1.*,!=2.2.*,!=2.3.*,!=2.4.*,!=2.5.*,!=2.6.*,!=2.7.*,<3.0.0dev,>=1.32.0->google-cloud-aiplatform) (2.28.1)\n",
      "Requirement already satisfied: grpcio-status<2.0dev,>=1.33.2 in /opt/conda/lib/python3.7/site-packages (from google-api-core[grpc]!=2.0.*,!=2.1.*,!=2.2.*,!=2.3.*,!=2.4.*,!=2.5.*,!=2.6.*,!=2.7.*,<3.0.0dev,>=1.32.0->google-cloud-aiplatform) (1.47.0)\n",
      "Requirement already satisfied: grpcio<2.0dev,>=1.33.2 in /opt/conda/lib/python3.7/site-packages (from google-api-core[grpc]!=2.0.*,!=2.1.*,!=2.2.*,!=2.3.*,!=2.4.*,!=2.5.*,!=2.6.*,!=2.7.*,<3.0.0dev,>=1.32.0->google-cloud-aiplatform) (1.48.0)\n",
      "Requirement already satisfied: google-resumable-media<3.0dev,>=0.6.0 in /opt/conda/lib/python3.7/site-packages (from google-cloud-bigquery<3.0.0dev,>=1.15.0->google-cloud-aiplatform) (2.3.3)\n",
      "Requirement already satisfied: python-dateutil<3.0dev,>=2.7.2 in /opt/conda/lib/python3.7/site-packages (from google-cloud-bigquery<3.0.0dev,>=1.15.0->google-cloud-aiplatform) (2.8.2)\n",
      "Requirement already satisfied: google-cloud-core<3.0.0dev,>=1.4.1 in /opt/conda/lib/python3.7/site-packages (from google-cloud-bigquery<3.0.0dev,>=1.15.0->google-cloud-aiplatform) (2.3.2)\n",
      "Requirement already satisfied: grpc-google-iam-v1<1.0.0dev,>=0.12.4 in /opt/conda/lib/python3.7/site-packages (from google-cloud-resource-manager<3.0.0dev,>=1.3.3->google-cloud-aiplatform) (0.12.4)\n",
      "Requirement already satisfied: pyparsing!=3.0.5,>=2.0.2 in /opt/conda/lib/python3.7/site-packages (from packaging<22.0.0dev,>=14.3->google-cloud-aiplatform) (3.0.9)\n",
      "Requirement already satisfied: six>=1.9.0 in /opt/conda/lib/python3.7/site-packages (from google-auth<3.0dev,>=1.25.0->google-api-core[grpc]!=2.0.*,!=2.1.*,!=2.2.*,!=2.3.*,!=2.4.*,!=2.5.*,!=2.6.*,!=2.7.*,<3.0.0dev,>=1.32.0->google-cloud-aiplatform) (1.16.0)\n",
      "Requirement already satisfied: setuptools>=40.3.0 in /opt/conda/lib/python3.7/site-packages (from google-auth<3.0dev,>=1.25.0->google-api-core[grpc]!=2.0.*,!=2.1.*,!=2.2.*,!=2.3.*,!=2.4.*,!=2.5.*,!=2.6.*,!=2.7.*,<3.0.0dev,>=1.32.0->google-cloud-aiplatform) (59.8.0)\n",
      "Requirement already satisfied: rsa<5,>=3.1.4 in /opt/conda/lib/python3.7/site-packages (from google-auth<3.0dev,>=1.25.0->google-api-core[grpc]!=2.0.*,!=2.1.*,!=2.2.*,!=2.3.*,!=2.4.*,!=2.5.*,!=2.6.*,!=2.7.*,<3.0.0dev,>=1.32.0->google-cloud-aiplatform) (4.9)\n",
      "Requirement already satisfied: cachetools<5.0,>=2.0.0 in /opt/conda/lib/python3.7/site-packages (from google-auth<3.0dev,>=1.25.0->google-api-core[grpc]!=2.0.*,!=2.1.*,!=2.2.*,!=2.3.*,!=2.4.*,!=2.5.*,!=2.6.*,!=2.7.*,<3.0.0dev,>=1.32.0->google-cloud-aiplatform) (4.2.4)\n",
      "Requirement already satisfied: pyasn1-modules>=0.2.1 in /opt/conda/lib/python3.7/site-packages (from google-auth<3.0dev,>=1.25.0->google-api-core[grpc]!=2.0.*,!=2.1.*,!=2.2.*,!=2.3.*,!=2.4.*,!=2.5.*,!=2.6.*,!=2.7.*,<3.0.0dev,>=1.32.0->google-cloud-aiplatform) (0.2.7)\n",
      "Requirement already satisfied: google-crc32c<2.0dev,>=1.0 in /opt/conda/lib/python3.7/site-packages (from google-resumable-media<3.0dev,>=0.6.0->google-cloud-bigquery<3.0.0dev,>=1.15.0->google-cloud-aiplatform) (1.1.2)\n",
      "Requirement already satisfied: idna<4,>=2.5 in /opt/conda/lib/python3.7/site-packages (from requests<3.0.0dev,>=2.18.0->google-api-core[grpc]!=2.0.*,!=2.1.*,!=2.2.*,!=2.3.*,!=2.4.*,!=2.5.*,!=2.6.*,!=2.7.*,<3.0.0dev,>=1.32.0->google-cloud-aiplatform) (3.3)\n",
      "Requirement already satisfied: urllib3<1.27,>=1.21.1 in /opt/conda/lib/python3.7/site-packages (from requests<3.0.0dev,>=2.18.0->google-api-core[grpc]!=2.0.*,!=2.1.*,!=2.2.*,!=2.3.*,!=2.4.*,!=2.5.*,!=2.6.*,!=2.7.*,<3.0.0dev,>=1.32.0->google-cloud-aiplatform) (1.26.11)\n",
      "Requirement already satisfied: charset-normalizer<3,>=2 in /opt/conda/lib/python3.7/site-packages (from requests<3.0.0dev,>=2.18.0->google-api-core[grpc]!=2.0.*,!=2.1.*,!=2.2.*,!=2.3.*,!=2.4.*,!=2.5.*,!=2.6.*,!=2.7.*,<3.0.0dev,>=1.32.0->google-cloud-aiplatform) (2.1.0)\n",
      "Requirement already satisfied: certifi>=2017.4.17 in /opt/conda/lib/python3.7/site-packages (from requests<3.0.0dev,>=2.18.0->google-api-core[grpc]!=2.0.*,!=2.1.*,!=2.2.*,!=2.3.*,!=2.4.*,!=2.5.*,!=2.6.*,!=2.7.*,<3.0.0dev,>=1.32.0->google-cloud-aiplatform) (2022.6.15)\n",
      "Requirement already satisfied: cffi>=1.0.0 in /opt/conda/lib/python3.7/site-packages (from google-crc32c<2.0dev,>=1.0->google-resumable-media<3.0dev,>=0.6.0->google-cloud-bigquery<3.0.0dev,>=1.15.0->google-cloud-aiplatform) (1.15.1)\n",
      "Requirement already satisfied: pyasn1<0.5.0,>=0.4.6 in /opt/conda/lib/python3.7/site-packages (from pyasn1-modules>=0.2.1->google-auth<3.0dev,>=1.25.0->google-api-core[grpc]!=2.0.*,!=2.1.*,!=2.2.*,!=2.3.*,!=2.4.*,!=2.5.*,!=2.6.*,!=2.7.*,<3.0.0dev,>=1.32.0->google-cloud-aiplatform) (0.4.8)\n",
      "Requirement already satisfied: pycparser in /opt/conda/lib/python3.7/site-packages (from cffi>=1.0.0->google-crc32c<2.0dev,>=1.0->google-resumable-media<3.0dev,>=0.6.0->google-cloud-bigquery<3.0.0dev,>=1.15.0->google-cloud-aiplatform) (2.21)\n",
      "Requirement already satisfied: google-cloud-storage in ./.local/lib/python3.7/site-packages (2.5.0)\n",
      "Requirement already satisfied: google-resumable-media>=2.3.2 in /opt/conda/lib/python3.7/site-packages (from google-cloud-storage) (2.3.3)\n",
      "Requirement already satisfied: requests<3.0.0dev,>=2.18.0 in /opt/conda/lib/python3.7/site-packages (from google-cloud-storage) (2.28.1)\n",
      "Requirement already satisfied: google-cloud-core<3.0dev,>=2.3.0 in /opt/conda/lib/python3.7/site-packages (from google-cloud-storage) (2.3.2)\n",
      "Requirement already satisfied: google-auth<3.0dev,>=1.25.0 in /opt/conda/lib/python3.7/site-packages (from google-cloud-storage) (1.35.0)\n",
      "Requirement already satisfied: google-api-core!=2.0.*,!=2.1.*,!=2.2.*,!=2.3.0,<3.0.0dev,>=1.31.5 in /opt/conda/lib/python3.7/site-packages (from google-cloud-storage) (2.8.1)\n",
      "Requirement already satisfied: googleapis-common-protos<2.0dev,>=1.56.2 in /opt/conda/lib/python3.7/site-packages (from google-api-core!=2.0.*,!=2.1.*,!=2.2.*,!=2.3.0,<3.0.0dev,>=1.31.5->google-cloud-storage) (1.56.4)\n",
      "Requirement already satisfied: protobuf<4.0.0dev,>=3.15.0 in ./.local/lib/python3.7/site-packages (from google-api-core!=2.0.*,!=2.1.*,!=2.2.*,!=2.3.0,<3.0.0dev,>=1.31.5->google-cloud-storage) (3.20.3)\n",
      "Requirement already satisfied: pyasn1-modules>=0.2.1 in /opt/conda/lib/python3.7/site-packages (from google-auth<3.0dev,>=1.25.0->google-cloud-storage) (0.2.7)\n",
      "Requirement already satisfied: setuptools>=40.3.0 in /opt/conda/lib/python3.7/site-packages (from google-auth<3.0dev,>=1.25.0->google-cloud-storage) (59.8.0)\n",
      "Requirement already satisfied: six>=1.9.0 in /opt/conda/lib/python3.7/site-packages (from google-auth<3.0dev,>=1.25.0->google-cloud-storage) (1.16.0)\n",
      "Requirement already satisfied: cachetools<5.0,>=2.0.0 in /opt/conda/lib/python3.7/site-packages (from google-auth<3.0dev,>=1.25.0->google-cloud-storage) (4.2.4)\n",
      "Requirement already satisfied: rsa<5,>=3.1.4 in /opt/conda/lib/python3.7/site-packages (from google-auth<3.0dev,>=1.25.0->google-cloud-storage) (4.9)\n",
      "Requirement already satisfied: google-crc32c<2.0dev,>=1.0 in /opt/conda/lib/python3.7/site-packages (from google-resumable-media>=2.3.2->google-cloud-storage) (1.1.2)\n",
      "Requirement already satisfied: charset-normalizer<3,>=2 in /opt/conda/lib/python3.7/site-packages (from requests<3.0.0dev,>=2.18.0->google-cloud-storage) (2.1.0)\n",
      "Requirement already satisfied: urllib3<1.27,>=1.21.1 in /opt/conda/lib/python3.7/site-packages (from requests<3.0.0dev,>=2.18.0->google-cloud-storage) (1.26.11)\n",
      "Requirement already satisfied: certifi>=2017.4.17 in /opt/conda/lib/python3.7/site-packages (from requests<3.0.0dev,>=2.18.0->google-cloud-storage) (2022.6.15)\n",
      "Requirement already satisfied: idna<4,>=2.5 in /opt/conda/lib/python3.7/site-packages (from requests<3.0.0dev,>=2.18.0->google-cloud-storage) (3.3)\n",
      "Requirement already satisfied: cffi>=1.0.0 in /opt/conda/lib/python3.7/site-packages (from google-crc32c<2.0dev,>=1.0->google-resumable-media>=2.3.2->google-cloud-storage) (1.15.1)\n",
      "Requirement already satisfied: pyasn1<0.5.0,>=0.4.6 in /opt/conda/lib/python3.7/site-packages (from pyasn1-modules>=0.2.1->google-auth<3.0dev,>=1.25.0->google-cloud-storage) (0.4.8)\n",
      "Requirement already satisfied: pycparser in /opt/conda/lib/python3.7/site-packages (from cffi>=1.0.0->google-crc32c<2.0dev,>=1.0->google-resumable-media>=2.3.2->google-cloud-storage) (2.21)\n",
      "Requirement already satisfied: wget in /opt/conda/lib/python3.7/site-packages (3.2)\n"
     ]
    }
   ],
   "source": [
    "import os\n",
    "\n",
    "# The Google Cloud Notebook product has specific requirements\n",
    "IS_GOOGLE_CLOUD_NOTEBOOK = os.path.exists(\"/opt/deeplearning/metadata/env_version\")\n",
    "\n",
    "# Google Cloud Notebook requires dependencies to be installed with '--user'\n",
    "USER_FLAG = \"\"\n",
    "if IS_GOOGLE_CLOUD_NOTEBOOK:\n",
    "    USER_FLAG = \"--user\"\n",
    "\n",
    "! pip install {USER_FLAG} --upgrade google-cloud-aiplatform\n",
    "! pip install {USER_FLAG} --upgrade google-cloud-storage\n",
    "!pip install wget"
   ]
  },
  {
   "cell_type": "code",
   "execution_count": 2,
   "id": "cdcaa277-9c68-4072-8641-9c08074f811f",
   "metadata": {},
   "outputs": [],
   "source": [
    "# 설치가 끝나면 커널을 재시작해야합니다.\n",
    "# Automatically restart kernel after installs\n",
    "import os\n",
    "\n",
    "if not os.getenv(\"IS_TESTING\"):\n",
    "    # Automatically restart kernel after installs\n",
    "    import IPython\n",
    "\n",
    "    app = IPython.Application.instance()\n",
    "    app.kernel.do_shutdown(True)"
   ]
  },
  {
   "cell_type": "code",
   "execution_count": 1,
   "id": "be741e55-e1e9-4d3a-a16c-fa729450a8e8",
   "metadata": {},
   "outputs": [
    {
     "name": "stdout",
     "output_type": "stream",
     "text": [
      "Project ID:  bigfesta2022-esg-team6-proj\n",
      "<Bucket: bigfesta2022-esg-team6-proj-bucket>\n"
     ]
    }
   ],
   "source": [
    "# 세팅을 다시 로드\n",
    "import os\n",
    "import pandas as pd\n",
    "\n",
    "# The Google Cloud Notebook product has specific requirements\n",
    "IS_GOOGLE_CLOUD_NOTEBOOK = os.path.exists(\"/opt/deeplearning/metadata/env_version\")\n",
    "\n",
    "# Google Cloud Notebook requires dependencies to be installed with '--user'\n",
    "USER_FLAG = \"\"\n",
    "if IS_GOOGLE_CLOUD_NOTEBOOK:\n",
    "    USER_FLAG = \"--user\"\n",
    "from datetime import datetime\n",
    "\n",
    "TIMESTAMP = datetime.now().strftime(\"%Y%m%d%H%M%S\")\n",
    "import warnings\n",
    "import os\n",
    "import joblib\n",
    "import matplotlib.pyplot as plt\n",
    "import numpy as np\n",
    "import seaborn as sns\n",
    "\n",
    "from google.cloud import aiplatform, storage\n",
    "\n",
    "from google.cloud import storage\n",
    "from google.cloud import bigquery\n",
    "\n",
    "import pandas as pd\n",
    "from sklearn import datasets\n",
    "\n",
    "PROJECT_ID = \"\"\n",
    "\n",
    "# Get your Google Cloud project ID from gcloud\n",
    "if not os.getenv(\"IS_TESTING\"):\n",
    "    shell_output = !gcloud config list --format 'value(core.project)' 2>/dev/null\n",
    "    PROJECT_ID = shell_output[0]\n",
    "    print(\"Project ID: \", PROJECT_ID)\n",
    "if PROJECT_ID == \"\" or PROJECT_ID is None:\n",
    "    PROJECT_ID = \"[your-project-id]\"  # @param {type:\"string\"}\n",
    "    \n",
    "# 지역, GCS 클라이언트, BQ 클라이언트 설정\n",
    "REGION = 'asia-northeast3'\n",
    "gcs = storage.Client(project = PROJECT_ID)\n",
    "bq = bigquery.Client(project = PROJECT_ID)\n",
    "\n",
    "# bucket 이름 지정: \"프로젝트 이름-bucket\"\n",
    "BUCKET_NAME=PROJECT_ID + \"-bucket\"\n",
    "if not gcs.lookup_bucket(BUCKET_NAME):\n",
    "    bucketDef = gcs.bucket(BUCKET_NAME)\n",
    "    bucket = gcs.create_bucket(bucketDef, project=PROJECT_ID, location=REGION)\n",
    "    print(bucket)\n",
    "else:\n",
    "    print(gcs.lookup_bucket(BUCKET_NAME))\n",
    "    \n",
    "def get_dataframe(bq_table):\n",
    "    \n",
    "    shell_output = !gcloud config list --format 'value(core.project)' 2>/dev/null\n",
    "    project_number = shell_output[0]\n",
    "    bqclient = bigquery.Client(project=project_number)\n",
    "    \n",
    "    table = bigquery.TableReference.from_string(\n",
    "        project_number+\".\"+bq_table\n",
    "    )\n",
    "    \n",
    "    rows = bqclient.list_rows(\n",
    "        table\n",
    "    )\n",
    "    \n",
    "    dataframe = rows.to_dataframe(\n",
    "        create_bqstorage_client=True,\n",
    "    )\n",
    "\n",
    "    return dataframe\n",
    "def to_bigquery(\n",
    "    dataframe,\n",
    "    table_name: str,\n",
    "    bucket_name: str\n",
    "):\n",
    "    client = bigquery.Client()\n",
    "    column_list=dataframe.columns\n",
    "    query_column_list=\"\"\n",
    "    \n",
    "    #blob = storage.blob.Blob.from_string(f\"\"\"gs://{bucket_name}/{table_name.split(\".\")[-1]}.csv\"\"\", client=storage.Client())\n",
    "    dataframe.to_csv(f\"\"\"gs://{bucket_name}/{table_name.split(\".\")[-1]}.csv\"\"\",index=False,encoding=\"utf-8\")\n",
    "    #blob.upload_from_file(temp)\n",
    "    \n",
    "    for name in column_list:\n",
    "        query_column_list=query_column_list+name+\" STRING,\"\n",
    "        \n",
    "    query = f\"\"\"\n",
    "    LOAD DATA OVERWRITE {table_name}(\n",
    "    {query_column_list}\n",
    "        )\n",
    "    FROM FILES (\n",
    "      skip_leading_rows=1,\n",
    "      allow_jagged_rows=true,\n",
    "      format = 'CSV',\n",
    "      encoding='utf-8',\n",
    "      field_delimiter=',',\n",
    "      uris = ['gs://{bucket_name}/{table_name.split(\".\")[-1]}.csv']);\"\"\"\n",
    "    \n",
    "    query_job = client.query(query)\n",
    "    results = query_job.result()"
   ]
  },
  {
   "cell_type": "code",
   "execution_count": 32,
   "id": "32be30b5-be74-4ede-9b59-04174644e4a3",
   "metadata": {},
   "outputs": [
    {
     "name": "stdout",
     "output_type": "stream",
     "text": [
      "Collecting imblearn\n",
      "  Downloading imblearn-0.0-py2.py3-none-any.whl (1.9 kB)\n",
      "Collecting imbalanced-learn\n",
      "  Downloading imbalanced_learn-0.9.1-py3-none-any.whl (199 kB)\n",
      "\u001b[2K     \u001b[90m━━━━━━━━━━━━━━━━━━━━━━━━━━━━━━━━━━━━━━━\u001b[0m \u001b[32m199.3/199.3 kB\u001b[0m \u001b[31m8.5 MB/s\u001b[0m eta \u001b[36m0:00:00\u001b[0m\n",
      "\u001b[?25hRequirement already satisfied: numpy>=1.17.3 in /opt/conda/lib/python3.7/site-packages (from imbalanced-learn->imblearn) (1.19.5)\n",
      "Requirement already satisfied: joblib>=1.0.0 in /opt/conda/lib/python3.7/site-packages (from imbalanced-learn->imblearn) (1.1.0)\n",
      "  Downloading imbalanced_learn-0.9.0-py3-none-any.whl (199 kB)\n",
      "\u001b[2K     \u001b[90m━━━━━━━━━━━━━━━━━━━━━━━━━━━━━━━━━━━━━━\u001b[0m \u001b[32m199.1/199.1 kB\u001b[0m \u001b[31m28.1 MB/s\u001b[0m eta \u001b[36m0:00:00\u001b[0m\n",
      "\u001b[?25hRequirement already satisfied: scikit-learn>=1.0.1 in /opt/conda/lib/python3.7/site-packages (from imbalanced-learn->imblearn) (1.0.2)\n",
      "Requirement already satisfied: threadpoolctl>=2.0.0 in /opt/conda/lib/python3.7/site-packages (from imbalanced-learn->imblearn) (3.1.0)\n",
      "Requirement already satisfied: scipy>=1.1.0 in /opt/conda/lib/python3.7/site-packages (from imbalanced-learn->imblearn) (1.7.3)\n",
      "Installing collected packages: imbalanced-learn, imblearn\n",
      "Successfully installed imbalanced-learn-0.9.0 imblearn-0.0\n"
     ]
    }
   ],
   "source": [
    "!pip install imblearn"
   ]
  },
  {
   "cell_type": "markdown",
   "id": "0aab1035-e189-494c-ad71-aeb5a7725711",
   "metadata": {},
   "source": [
    "## train, test 데이터 "
   ]
  },
  {
   "cell_type": "code",
   "execution_count": 3,
   "id": "2b8ef563-510d-486b-914c-f48089ccccc9",
   "metadata": {},
   "outputs": [],
   "source": [
    "environ_final=pd.read_csv(\"data/pipeline3/esg_environ_final_cat.csv\")\n",
    "govern_final=pd.read_csv(\"data/pipeline3/esg_govern_final_cat.csv\")\n",
    "social_final=pd.read_csv(\"data/pipeline3/esg_social_final_cat.csv\")\n",
    "# or\n",
    "# environ_final=pd.read_csv(\"esg_data.esg_environ_final_cat\")\n",
    "# govern_final=pd.read_csv(\"esg_data.esg_govern_final_cat\")\n",
    "# social_final=pd.read_csv(\"esg_data.esg_social_final_cat\")"
   ]
  },
  {
   "cell_type": "code",
   "execution_count": 4,
   "id": "adbb8700-b61f-48bb-ac13-dbf327991dd9",
   "metadata": {},
   "outputs": [],
   "source": [
    "esg_train_y=pd.read_csv(\"data/final_esg/esg_train_data.csv\")\n",
    "esg_test_y=pd.read_csv(\"data/final_esg/esg_test_data.csv\")"
   ]
  },
  {
   "cell_type": "markdown",
   "id": "3586568c-f56e-48bc-b1bd-27c12498c3e9",
   "metadata": {
    "tags": []
   },
   "source": [
    "### 1. E train, test 데이터"
   ]
  },
  {
   "cell_type": "code",
   "execution_count": 5,
   "id": "83b14218-70fd-4970-b4cb-82f9375d961a",
   "metadata": {},
   "outputs": [],
   "source": [
    "environ_final['industry_med_code']=pd.to_numeric(environ_final['industry_med_code'].str.replace(\"'\",\"\"))\n",
    "environ_final['industry_med_code']=environ_final['industry_med_code'].fillna(0)"
   ]
  },
  {
   "cell_type": "code",
   "execution_count": 6,
   "id": "d571f5fc-dbcb-44a2-84c6-239cd235a9b6",
   "metadata": {},
   "outputs": [
    {
     "data": {
      "text/plain": [
       "Index(['code', 'name', 'market', 'stock_corp_code', 'stock_name', 'kor_name',\n",
       "       'eng_name', 'industry_code', 'industry_med_code', 'industry_sub_code',\n",
       "       'industry_med_name', 'industry_sub_name', 'asset_sum', 'raw', 'water',\n",
       "       'energy', 'air_pollu', 'water_pollu', 'waste', 'chemical',\n",
       "       'water_reuse', 'waste_reuse', 'exist', 'asset_sum_cat'],\n",
       "      dtype='object')"
      ]
     },
     "execution_count": 6,
     "metadata": {},
     "output_type": "execute_result"
    }
   ],
   "source": [
    "# 학습에 필요한 열만 고르기!\n",
    "environ_final.columns"
   ]
  },
  {
   "cell_type": "code",
   "execution_count": 7,
   "id": "fe3e0713-70c7-4361-a5ba-34c7bc279470",
   "metadata": {},
   "outputs": [],
   "source": [
    "# train, test 병합 후 split\n",
    "environ_train=pd.merge(esg_train_y[[\"종목코드\",\"E_GRADE\"]],environ_final,left_on=\"종목코드\",right_on=\"code\",how=\"left\")\n",
    "environ_test=pd.merge(esg_test_y[[\"종목코드\",\"E_GRADE\"]],environ_final,left_on=\"종목코드\",right_on=\"code\",how=\"left\")"
   ]
  },
  {
   "cell_type": "code",
   "execution_count": 8,
   "id": "5a6aecc5-8737-4f9f-8a16-ef7da2dde74b",
   "metadata": {},
   "outputs": [
    {
     "data": {
      "text/plain": [
       "Index(['종목코드', 'E_GRADE', 'code', 'name', 'market', 'stock_corp_code',\n",
       "       'stock_name', 'kor_name', 'eng_name', 'industry_code',\n",
       "       'industry_med_code', 'industry_sub_code', 'industry_med_name',\n",
       "       'industry_sub_name', 'asset_sum', 'raw', 'water', 'energy', 'air_pollu',\n",
       "       'water_pollu', 'waste', 'chemical', 'water_reuse', 'waste_reuse',\n",
       "       'exist', 'asset_sum_cat'],\n",
       "      dtype='object')"
      ]
     },
     "execution_count": 8,
     "metadata": {},
     "output_type": "execute_result"
    }
   ],
   "source": [
    "environ_train.columns\n",
    "# 'E_GRADE','industry_med_code', 'raw', 'water', 'energy', 'air_pollu','water_pollu', 'waste', 'chemical', 'water_reuse', 'waste_reuse', 'exist', 'asset_sum_cat'"
   ]
  },
  {
   "cell_type": "code",
   "execution_count": 9,
   "id": "81b589dc-a66d-4aef-a6fa-bb8616d16e1e",
   "metadata": {},
   "outputs": [],
   "source": [
    "environ_train=environ_train[['E_GRADE', 'industry_med_code','raw', 'water', 'energy', 'air_pollu',\n",
    "       'water_pollu', 'waste', 'chemical', 'water_reuse', 'waste_reuse',\n",
    "       'exist', 'asset_sum_cat']]\n",
    "environ_test=environ_test[['code','industry_med_code','raw', 'water', 'energy', 'air_pollu',\n",
    "       'water_pollu', 'waste', 'chemical', 'water_reuse', 'waste_reuse',\n",
    "       'exist', 'asset_sum_cat']]"
   ]
  },
  {
   "cell_type": "code",
   "execution_count": 10,
   "id": "7ca1c824-0a03-4c4d-a40f-01c4a18c8555",
   "metadata": {},
   "outputs": [
    {
     "data": {
      "text/plain": [
       "9    239\n",
       "7    112\n",
       "6     89\n",
       "5     61\n",
       "8     51\n",
       "4     47\n",
       "3     38\n",
       "2     24\n",
       "1      2\n",
       "Name: E_GRADE, dtype: int64"
      ]
     },
     "execution_count": 10,
     "metadata": {},
     "output_type": "execute_result"
    }
   ],
   "source": [
    "environ_train[\"E_GRADE\"].value_counts()"
   ]
  },
  {
   "cell_type": "code",
   "execution_count": 11,
   "id": "fd1958a2-a320-4ea4-901d-ee56f0100075",
   "metadata": {},
   "outputs": [],
   "source": [
    "## SMOTE-Tomek\n",
    "from imblearn.over_sampling import *\n",
    "# 10, 50, 100, 150, 200 단위로 늘리되, 기존 데이터 수 두 배 한수를 기준으로! \n",
    "sampling_strategy = {1: 30, 2: 70,3: 70,4: 120,5: 120,6: 170,7:170,8:120}\n",
    "X_E_train, Y_E_train = RandomOverSampler(random_state=0,sampling_strategy=sampling_strategy).fit_resample(environ_train.drop(\"E_GRADE\",axis=1),environ_train[\"E_GRADE\"])\n",
    "environ_train=pd.concat([X_E_train, Y_E_train],axis=1)"
   ]
  },
  {
   "cell_type": "code",
   "execution_count": 12,
   "id": "aed9877b-a1da-44a4-ad50-da27f7a386bf",
   "metadata": {},
   "outputs": [
    {
     "data": {
      "text/plain": [
       "9    239\n",
       "6    170\n",
       "7    170\n",
       "4    120\n",
       "8    120\n",
       "5    120\n",
       "2     70\n",
       "3     70\n",
       "1     30\n",
       "Name: E_GRADE, dtype: int64"
      ]
     },
     "execution_count": 12,
     "metadata": {},
     "output_type": "execute_result"
    }
   ],
   "source": [
    "Y_E_train.value_counts()"
   ]
  },
  {
   "cell_type": "code",
   "execution_count": 13,
   "id": "2dc06efc-39ee-40fc-9b7b-229c98c9730f",
   "metadata": {},
   "outputs": [
    {
     "name": "stdout",
     "output_type": "stream",
     "text": [
      "<class 'pandas.core.frame.DataFrame'>\n",
      "RangeIndex: 1109 entries, 0 to 1108\n",
      "Data columns (total 13 columns):\n",
      " #   Column             Non-Null Count  Dtype  \n",
      "---  ------             --------------  -----  \n",
      " 0   industry_med_code  1109 non-null   float64\n",
      " 1   raw                1109 non-null   float64\n",
      " 2   water              1109 non-null   float64\n",
      " 3   energy             1109 non-null   float64\n",
      " 4   air_pollu          1109 non-null   float64\n",
      " 5   water_pollu        1109 non-null   float64\n",
      " 6   waste              1109 non-null   float64\n",
      " 7   chemical           1109 non-null   float64\n",
      " 8   water_reuse        1109 non-null   float64\n",
      " 9   waste_reuse        1109 non-null   float64\n",
      " 10  exist              1109 non-null   int64  \n",
      " 11  asset_sum_cat      1109 non-null   int64  \n",
      " 12  E_GRADE            1109 non-null   int64  \n",
      "dtypes: float64(10), int64(3)\n",
      "memory usage: 112.8 KB\n"
     ]
    }
   ],
   "source": [
    "environ_train.info()"
   ]
  },
  {
   "cell_type": "code",
   "execution_count": 14,
   "id": "2e5e62a3-6eed-481e-9e64-1bf4e556d299",
   "metadata": {},
   "outputs": [
    {
     "name": "stdout",
     "output_type": "stream",
     "text": [
      "<class 'pandas.core.frame.DataFrame'>\n",
      "Int64Index: 284 entries, 0 to 283\n",
      "Data columns (total 13 columns):\n",
      " #   Column             Non-Null Count  Dtype  \n",
      "---  ------             --------------  -----  \n",
      " 0   code               284 non-null    object \n",
      " 1   industry_med_code  284 non-null    float64\n",
      " 2   raw                284 non-null    float64\n",
      " 3   water              284 non-null    float64\n",
      " 4   energy             284 non-null    float64\n",
      " 5   air_pollu          284 non-null    float64\n",
      " 6   water_pollu        284 non-null    float64\n",
      " 7   waste              284 non-null    float64\n",
      " 8   chemical           284 non-null    float64\n",
      " 9   water_reuse        284 non-null    float64\n",
      " 10  waste_reuse        284 non-null    float64\n",
      " 11  exist              284 non-null    int64  \n",
      " 12  asset_sum_cat      284 non-null    int64  \n",
      "dtypes: float64(10), int64(2), object(1)\n",
      "memory usage: 31.1+ KB\n"
     ]
    }
   ],
   "source": [
    "environ_test.info()"
   ]
  },
  {
   "cell_type": "code",
   "execution_count": 15,
   "id": "b2c7c82a-55c8-42e4-ae12-74a5693eb29c",
   "metadata": {},
   "outputs": [],
   "source": [
    "## train, test set 내보내기\n",
    "environ_train.to_csv(\"data/pipeline3/modeling_data/E_train.csv\",index=False,encoding=\"utf-8\")\n",
    "environ_test.to_csv(\"data/pipeline3/modeling_data/E_test.csv\",index=False,encoding=\"utf-8\")"
   ]
  },
  {
   "cell_type": "markdown",
   "id": "89159b3a-3cfd-4d3e-81f2-b16ea64c7cd4",
   "metadata": {},
   "source": [
    "### 2. S train, test 데이터"
   ]
  },
  {
   "cell_type": "code",
   "execution_count": 16,
   "id": "bf5bc0ce-73e8-4e9c-a8a4-caebf73a5143",
   "metadata": {},
   "outputs": [],
   "source": [
    "social_final['industry_med_code']=pd.to_numeric(social_final['industry_med_code'].str.replace(\"'\",\"\"))\n",
    "social_final['industry_med_code']=social_final['industry_med_code'].fillna(0)"
   ]
  },
  {
   "cell_type": "code",
   "execution_count": 17,
   "id": "b7d7e126-20e0-4f56-957b-2ec3c0dfff20",
   "metadata": {},
   "outputs": [],
   "source": [
    "social_train=pd.merge(esg_train_y[[\"종목코드\",\"S_GRADE\"]],social_final,left_on=\"종목코드\",right_on=\"code\",how=\"left\")\n",
    "social_test=pd.merge(esg_test_y[[\"종목코드\",\"S_GRADE\"]],social_final,left_on=\"종목코드\",right_on=\"code\",how=\"left\")"
   ]
  },
  {
   "cell_type": "code",
   "execution_count": 18,
   "id": "6a658464-6e2b-4736-8ddc-f6b631faa6f0",
   "metadata": {},
   "outputs": [
    {
     "data": {
      "text/plain": [
       "Index(['code', 'name', 'market', 'kor_name', 'eng_name', 'stock_corp_code',\n",
       "       'stock_name', 'industry_code', 'industry_med_code', 'industry_sub_code',\n",
       "       'industry_med_name', 'industry_sub_name', 'reg_prob', 'female_prob',\n",
       "       'reg_female_prob', 'female_money_prob', 'exist', 'disabled',\n",
       "       'industry_accident', 'volunteer', 'asset_sum', 'asset_sum_cat', 'sm'],\n",
       "      dtype='object')"
      ]
     },
     "execution_count": 18,
     "metadata": {},
     "output_type": "execute_result"
    }
   ],
   "source": [
    "social_final.columns"
   ]
  },
  {
   "cell_type": "code",
   "execution_count": 19,
   "id": "58147f6a-6a21-4648-846e-961ce7dcf22a",
   "metadata": {},
   "outputs": [],
   "source": [
    "social_train=social_train[['S_GRADE', 'industry_med_code','reg_prob', 'female_prob',\n",
    "       'reg_female_prob', 'female_money_prob', 'exist', 'disabled',\n",
    "       'industry_accident', 'volunteer', 'asset_sum_cat']]\n",
    "social_test=social_test[['code', 'industry_med_code','reg_prob', 'female_prob',\n",
    "       'reg_female_prob', 'female_money_prob', 'exist', 'disabled',\n",
    "       'industry_accident', 'volunteer', 'asset_sum_cat']]"
   ]
  },
  {
   "cell_type": "code",
   "execution_count": 20,
   "id": "bd8303f5-705f-4146-8017-b2dca71f8692",
   "metadata": {},
   "outputs": [
    {
     "data": {
      "text/plain": [
       "8    176\n",
       "9    163\n",
       "7     97\n",
       "5     48\n",
       "6     44\n",
       "3     42\n",
       "2     41\n",
       "4     37\n",
       "1     15\n",
       "Name: S_GRADE, dtype: int64"
      ]
     },
     "execution_count": 20,
     "metadata": {},
     "output_type": "execute_result"
    }
   ],
   "source": [
    "social_train[\"S_GRADE\"].value_counts()"
   ]
  },
  {
   "cell_type": "code",
   "execution_count": 21,
   "id": "787a8991-c937-4eaf-ae7c-20e0cafcf1c3",
   "metadata": {},
   "outputs": [],
   "source": [
    "## SMOTE-Tomek\n",
    "from imblearn.over_sampling import *\n",
    "# 10, 50, 100, 150, 200 단위로 늘리되, 기존 데이터 수 두 배 한수를 기준으로! \n",
    "sampling_strategy = {1: 50, 2: 120,3: 120,4: 70,5: 120,6: 120,7:170}\n",
    "X_S_train, Y_S_train = RandomOverSampler(random_state=0,sampling_strategy=sampling_strategy).fit_resample(social_train.drop(\"S_GRADE\",axis=1),social_train[\"S_GRADE\"])\n",
    "social_train=pd.concat([X_S_train, Y_S_train],axis=1)"
   ]
  },
  {
   "cell_type": "code",
   "execution_count": 22,
   "id": "219b1347-3ca0-47b2-b87a-045140948c79",
   "metadata": {},
   "outputs": [
    {
     "data": {
      "text/plain": [
       "8    176\n",
       "7    170\n",
       "9    163\n",
       "3    120\n",
       "2    120\n",
       "6    120\n",
       "5    120\n",
       "4     70\n",
       "1     50\n",
       "Name: S_GRADE, dtype: int64"
      ]
     },
     "execution_count": 22,
     "metadata": {},
     "output_type": "execute_result"
    }
   ],
   "source": [
    "Y_S_train.value_counts()"
   ]
  },
  {
   "cell_type": "code",
   "execution_count": 23,
   "id": "c135276c-21c6-4dba-aab5-c4d2e652a819",
   "metadata": {},
   "outputs": [
    {
     "name": "stdout",
     "output_type": "stream",
     "text": [
      "<class 'pandas.core.frame.DataFrame'>\n",
      "RangeIndex: 1109 entries, 0 to 1108\n",
      "Data columns (total 11 columns):\n",
      " #   Column             Non-Null Count  Dtype  \n",
      "---  ------             --------------  -----  \n",
      " 0   industry_med_code  1109 non-null   float64\n",
      " 1   reg_prob           1109 non-null   float64\n",
      " 2   female_prob        1109 non-null   float64\n",
      " 3   reg_female_prob    1109 non-null   float64\n",
      " 4   female_money_prob  1109 non-null   float64\n",
      " 5   exist              1109 non-null   bool   \n",
      " 6   disabled           1109 non-null   float64\n",
      " 7   industry_accident  1109 non-null   float64\n",
      " 8   volunteer          1109 non-null   float64\n",
      " 9   asset_sum_cat      1109 non-null   int64  \n",
      " 10  S_GRADE            1109 non-null   int64  \n",
      "dtypes: bool(1), float64(8), int64(2)\n",
      "memory usage: 87.8 KB\n"
     ]
    }
   ],
   "source": [
    "social_train.info()"
   ]
  },
  {
   "cell_type": "code",
   "execution_count": 24,
   "id": "87d54525-6c67-43ca-a67c-02ba9fc035e1",
   "metadata": {},
   "outputs": [
    {
     "name": "stdout",
     "output_type": "stream",
     "text": [
      "<class 'pandas.core.frame.DataFrame'>\n",
      "Int64Index: 284 entries, 0 to 283\n",
      "Data columns (total 11 columns):\n",
      " #   Column             Non-Null Count  Dtype  \n",
      "---  ------             --------------  -----  \n",
      " 0   code               284 non-null    object \n",
      " 1   industry_med_code  284 non-null    float64\n",
      " 2   reg_prob           284 non-null    float64\n",
      " 3   female_prob        284 non-null    float64\n",
      " 4   reg_female_prob    284 non-null    float64\n",
      " 5   female_money_prob  284 non-null    float64\n",
      " 6   exist              284 non-null    bool   \n",
      " 7   disabled           284 non-null    float64\n",
      " 8   industry_accident  284 non-null    float64\n",
      " 9   volunteer          284 non-null    float64\n",
      " 10  asset_sum_cat      284 non-null    int64  \n",
      "dtypes: bool(1), float64(8), int64(1), object(1)\n",
      "memory usage: 24.7+ KB\n"
     ]
    }
   ],
   "source": [
    "social_test.info()"
   ]
  },
  {
   "cell_type": "code",
   "execution_count": 25,
   "id": "12890439-7927-451e-9042-8c12e0d82f95",
   "metadata": {},
   "outputs": [],
   "source": [
    "## train, test set 내보내기\n",
    "social_train.to_csv(\"data/pipeline3/modeling_data/S_train.csv\",index=False,encoding=\"utf-8\")\n",
    "social_test.to_csv(\"data/pipeline3/modeling_data/S_test.csv\",index=False,encoding=\"utf-8\")"
   ]
  },
  {
   "cell_type": "markdown",
   "id": "9ac443c7-3e1f-46a7-9173-d84daa936b2f",
   "metadata": {},
   "source": [
    "### 3. G train, test 데이터"
   ]
  },
  {
   "cell_type": "code",
   "execution_count": 26,
   "id": "5c4b6df9-c3e6-49e7-a295-f5e800c8ed1b",
   "metadata": {},
   "outputs": [],
   "source": [
    "govern_final['industry_med_code']=pd.to_numeric(govern_final['industry_med_code'].str.replace(\"'\",\"\"))\n",
    "govern_final['industry_med_code']=govern_final['industry_med_code'].fillna(0)"
   ]
  },
  {
   "cell_type": "code",
   "execution_count": 27,
   "id": "dce472b4-1014-4b71-bc1a-5a001515f09a",
   "metadata": {},
   "outputs": [],
   "source": [
    "govern_train=pd.merge(esg_train_y[[\"종목코드\",\"G_GRADE\"]],govern_final,left_on=\"종목코드\",right_on=\"code\",how=\"left\")\n",
    "govern_test=pd.merge(esg_test_y[[\"종목코드\",\"G_GRADE\"]],govern_final,left_on=\"종목코드\",right_on=\"code\",how=\"left\")"
   ]
  },
  {
   "cell_type": "code",
   "execution_count": 28,
   "id": "08704a57-e4ac-4f97-8c99-559da0992c75",
   "metadata": {},
   "outputs": [
    {
     "data": {
      "text/plain": [
       "Index(['code', 'name', 'market', 'kor_name', 'eng_name', 'stock_corp_code',\n",
       "       'stock_name', 'industry_code', 'industry_med_code', 'industry_sub_code',\n",
       "       'industry_med_name', 'industry_sub_name', 'Outer_percentage',\n",
       "       'female_percentage', 'vote_y', 'vote_n', 'vote_percentage',\n",
       "       'attendance', 'op_uniformity', 'audit_num', 'exist', 'asset_sum',\n",
       "       'asset_sum_cat'],\n",
       "      dtype='object')"
      ]
     },
     "execution_count": 28,
     "metadata": {},
     "output_type": "execute_result"
    }
   ],
   "source": [
    "govern_final.columns"
   ]
  },
  {
   "cell_type": "code",
   "execution_count": 29,
   "id": "da0ea8ee-697e-4fb7-92b9-4603a3df5046",
   "metadata": {},
   "outputs": [],
   "source": [
    "govern_train=govern_train[['G_GRADE', 'industry_med_code','Outer_percentage',\n",
    "       'female_percentage',  'vote_percentage',\n",
    "       'attendance', 'op_uniformity', 'audit_num', 'exist', \n",
    "       'asset_sum_cat']]\n",
    "govern_test=govern_test[['code','industry_med_code','Outer_percentage',\n",
    "       'female_percentage',  'vote_percentage',\n",
    "       'attendance', 'op_uniformity', 'audit_num', 'exist', \n",
    "       'asset_sum_cat']]"
   ]
  },
  {
   "cell_type": "code",
   "execution_count": 30,
   "id": "1c13a55d-ae5d-4a10-b6f8-1f6aacc5e5f2",
   "metadata": {},
   "outputs": [
    {
     "data": {
      "text/plain": [
       "3    82\n",
       "8    82\n",
       "1    79\n",
       "9    77\n",
       "7    75\n",
       "4    70\n",
       "5    69\n",
       "2    65\n",
       "6    64\n",
       "Name: G_GRADE, dtype: int64"
      ]
     },
     "execution_count": 30,
     "metadata": {},
     "output_type": "execute_result"
    }
   ],
   "source": [
    "govern_train[\"G_GRADE\"].value_counts()"
   ]
  },
  {
   "cell_type": "code",
   "execution_count": 31,
   "id": "f52e3079-a7b6-44b2-a62f-c8105e23bf10",
   "metadata": {},
   "outputs": [],
   "source": [
    "## SMOTE-Tomek\n",
    "from imblearn.over_sampling import *\n",
    "# 10, 50, 100, 150, 200 단위로 늘리되, 기존 데이터 수 두 배 한수를 기준으로! \n",
    "sampling_strategy = {1: 120, 2:120,3:120,4: 120,5: 120,6: 120,7: 120,8: 120,9: 120}\n",
    "X_G_train, Y_G_train = RandomOverSampler(random_state=0).fit_resample(govern_train.drop(\"G_GRADE\",axis=1),govern_train[\"G_GRADE\"])\n",
    "govern_train=pd.concat([X_G_train, Y_G_train],axis=1)"
   ]
  },
  {
   "cell_type": "code",
   "execution_count": 32,
   "id": "cdc5964b-ada4-4c26-bee1-cefa56ba60c2",
   "metadata": {},
   "outputs": [
    {
     "data": {
      "text/plain": [
       "2    82\n",
       "1    82\n",
       "3    82\n",
       "6    82\n",
       "4    82\n",
       "8    82\n",
       "5    82\n",
       "7    82\n",
       "9    82\n",
       "Name: G_GRADE, dtype: int64"
      ]
     },
     "execution_count": 32,
     "metadata": {},
     "output_type": "execute_result"
    }
   ],
   "source": [
    "Y_G_train.value_counts()"
   ]
  },
  {
   "cell_type": "code",
   "execution_count": 33,
   "id": "855a814b-6079-4971-b05a-bc42073c4319",
   "metadata": {},
   "outputs": [],
   "source": [
    "extra_govern=govern_train.sample(frac=0.5,random_state=1004).reset_index(drop=True)\n",
    "govern_train=pd.concat([govern_train,extra_govern],axis=0)\n",
    "govern_train=govern_train.reset_index(drop=True)"
   ]
  },
  {
   "cell_type": "code",
   "execution_count": 34,
   "id": "618ea8ff-ee52-41c7-b584-529f89a26800",
   "metadata": {},
   "outputs": [
    {
     "name": "stdout",
     "output_type": "stream",
     "text": [
      "<class 'pandas.core.frame.DataFrame'>\n",
      "RangeIndex: 1107 entries, 0 to 1106\n",
      "Data columns (total 10 columns):\n",
      " #   Column             Non-Null Count  Dtype  \n",
      "---  ------             --------------  -----  \n",
      " 0   industry_med_code  1107 non-null   float64\n",
      " 1   Outer_percentage   1107 non-null   float64\n",
      " 2   female_percentage  1107 non-null   float64\n",
      " 3   vote_percentage    1107 non-null   float64\n",
      " 4   attendance         1107 non-null   float64\n",
      " 5   op_uniformity      1107 non-null   float64\n",
      " 6   audit_num          1107 non-null   float64\n",
      " 7   exist              1107 non-null   bool   \n",
      " 8   asset_sum_cat      1107 non-null   int64  \n",
      " 9   G_GRADE            1107 non-null   int64  \n",
      "dtypes: bool(1), float64(7), int64(2)\n",
      "memory usage: 79.0 KB\n"
     ]
    }
   ],
   "source": [
    "govern_train.info()"
   ]
  },
  {
   "cell_type": "code",
   "execution_count": 35,
   "id": "8a3bc663-4da6-44a2-a0ec-f6b84da7f638",
   "metadata": {},
   "outputs": [
    {
     "name": "stdout",
     "output_type": "stream",
     "text": [
      "<class 'pandas.core.frame.DataFrame'>\n",
      "Int64Index: 284 entries, 0 to 283\n",
      "Data columns (total 10 columns):\n",
      " #   Column             Non-Null Count  Dtype  \n",
      "---  ------             --------------  -----  \n",
      " 0   code               284 non-null    object \n",
      " 1   industry_med_code  284 non-null    float64\n",
      " 2   Outer_percentage   284 non-null    float64\n",
      " 3   female_percentage  284 non-null    float64\n",
      " 4   vote_percentage    284 non-null    float64\n",
      " 5   attendance         284 non-null    float64\n",
      " 6   op_uniformity      284 non-null    float64\n",
      " 7   audit_num          284 non-null    float64\n",
      " 8   exist              284 non-null    bool   \n",
      " 9   asset_sum_cat      284 non-null    int64  \n",
      "dtypes: bool(1), float64(7), int64(1), object(1)\n",
      "memory usage: 22.5+ KB\n"
     ]
    }
   ],
   "source": [
    "govern_test.info()"
   ]
  },
  {
   "cell_type": "code",
   "execution_count": 36,
   "id": "13452a7c-5cb3-4743-b718-e0372b09b725",
   "metadata": {},
   "outputs": [],
   "source": [
    "## train, test set 내보내기\n",
    "govern_train.to_csv(\"data/pipeline3/modeling_data/G_train.csv\",index=False,encoding=\"utf-8\")\n",
    "govern_test.to_csv(\"data/pipeline3/modeling_data/G_test.csv\",index=False,encoding=\"utf-8\")"
   ]
  },
  {
   "cell_type": "markdown",
   "id": "f0e55304-978d-4bfa-be4a-472830df09e6",
   "metadata": {},
   "source": [
    "### 4. ESG train, test 데이터"
   ]
  },
  {
   "cell_type": "code",
   "execution_count": 37,
   "id": "68568792-955f-4dea-ada5-08ae17741dce",
   "metadata": {},
   "outputs": [],
   "source": [
    "environ_final=pd.read_csv(\"data/pipeline3/esg_environ_final_cat.csv\")\n",
    "govern_final=pd.read_csv(\"data/pipeline3/esg_govern_final_cat.csv\")\n",
    "social_final=pd.read_csv(\"data/pipeline3/esg_social_final_cat.csv\")"
   ]
  },
  {
   "cell_type": "code",
   "execution_count": 38,
   "id": "26bd060b-c358-455a-8796-86321c29d729",
   "metadata": {},
   "outputs": [],
   "source": [
    "ESG_final=pd.merge(environ_final,govern_final,on=\"code\")\n",
    "ESG_final=pd.merge(ESG_final,social_final,on=\"code\")"
   ]
  },
  {
   "cell_type": "code",
   "execution_count": 39,
   "id": "59cbc480-c4c7-40f3-b8d9-2d79b465473f",
   "metadata": {},
   "outputs": [],
   "source": [
    "ESG_final['industry_med_code']=pd.to_numeric(ESG_final['industry_med_code'].str.replace(\"'\",\"\"))\n",
    "ESG_final['industry_med_code']=ESG_final['industry_med_code'].fillna(0)"
   ]
  },
  {
   "cell_type": "code",
   "execution_count": 40,
   "id": "dd3b3072-93c0-43f2-9be0-6c7beaa466ea",
   "metadata": {},
   "outputs": [],
   "source": [
    "ESG_train=pd.merge(esg_train_y[[\"종목코드\",\"ESG_GRADE\"]],ESG_final,left_on=\"종목코드\",right_on=\"code\",how=\"left\")\n",
    "ESG_test=pd.merge(esg_test_y[[\"종목코드\",\"ESG_GRADE\"]],ESG_final,left_on=\"종목코드\",right_on=\"code\",how=\"left\")"
   ]
  },
  {
   "cell_type": "code",
   "execution_count": 41,
   "id": "12063248-d9b8-43e2-9d5e-3fb947555641",
   "metadata": {},
   "outputs": [
    {
     "data": {
      "text/plain": [
       "Index(['종목코드', 'ESG_GRADE', 'code', 'name_x', 'market_x', 'stock_corp_code_x',\n",
       "       'stock_name_x', 'kor_name_x', 'eng_name_x', 'industry_code_x',\n",
       "       'industry_med_code_x', 'industry_sub_code_x', 'industry_med_name_x',\n",
       "       'industry_sub_name_x', 'asset_sum_x', 'raw', 'water', 'energy',\n",
       "       'air_pollu', 'water_pollu', 'waste', 'chemical', 'water_reuse',\n",
       "       'waste_reuse', 'exist_x', 'asset_sum_cat_x', 'name_y', 'market_y',\n",
       "       'kor_name_y', 'eng_name_y', 'stock_corp_code_y', 'stock_name_y',\n",
       "       'industry_code_y', 'industry_med_code_y', 'industry_sub_code_y',\n",
       "       'industry_med_name_y', 'industry_sub_name_y', 'Outer_percentage',\n",
       "       'female_percentage', 'vote_y', 'vote_n', 'vote_percentage',\n",
       "       'attendance', 'op_uniformity', 'audit_num', 'exist_y', 'asset_sum_y',\n",
       "       'asset_sum_cat_y', 'name', 'market', 'kor_name', 'eng_name',\n",
       "       'stock_corp_code', 'stock_name', 'industry_code', 'industry_med_code',\n",
       "       'industry_sub_code', 'industry_med_name', 'industry_sub_name',\n",
       "       'reg_prob', 'female_prob', 'reg_female_prob', 'female_money_prob',\n",
       "       'exist', 'disabled', 'industry_accident', 'volunteer', 'asset_sum',\n",
       "       'asset_sum_cat', 'sm'],\n",
       "      dtype='object')"
      ]
     },
     "execution_count": 41,
     "metadata": {},
     "output_type": "execute_result"
    }
   ],
   "source": [
    "ESG_train.columns"
   ]
  },
  {
   "cell_type": "code",
   "execution_count": 42,
   "id": "920d5bfc-33c9-4a43-8edf-69e823462faa",
   "metadata": {},
   "outputs": [],
   "source": [
    "ESG_train=ESG_train[['ESG_GRADE', 'industry_med_code','asset_sum_cat','raw', 'water', 'energy', 'air_pollu',\n",
    "       'water_pollu', 'waste', 'chemical', 'water_reuse', 'waste_reuse','Outer_percentage', 'female_percentage','vote_percentage', 'attendance', 'op_uniformity','audit_num','reg_female_prob', 'female_money_prob', 'exist', 'disabled',\n",
    "       'industry_accident', 'volunteer','exist_x','exist_y']]\n",
    "ESG_test=ESG_test[['code','industry_med_code','asset_sum_cat','raw', 'water', 'energy', 'air_pollu',\n",
    "       'water_pollu', 'waste', 'chemical', 'water_reuse', 'waste_reuse','Outer_percentage', 'female_percentage','vote_percentage', 'attendance', 'op_uniformity','audit_num','reg_female_prob', 'female_money_prob', 'exist', 'disabled',\n",
    "       'industry_accident', 'volunteer','exist_x','exist_y']]"
   ]
  },
  {
   "cell_type": "code",
   "execution_count": 43,
   "id": "35e92c9a-ee1b-4303-a8e0-efe6955a6bd2",
   "metadata": {},
   "outputs": [],
   "source": [
    "ESG_train[\"exist_total\"]=ESG_train[\"exist\"]+ESG_train[\"exist_x\"]+ESG_train[\"exist_y\"]\n",
    "ESG_test[\"exist_total\"]=ESG_test[\"exist\"]+ESG_test[\"exist_x\"]+ESG_test[\"exist_y\"]\n",
    "ESG_train=ESG_train.drop([\"exist\",\"exist_x\",\"exist_y\"],axis=1)\n",
    "ESG_test=ESG_test.drop([\"exist\",\"exist_x\",\"exist_y\"],axis=1)"
   ]
  },
  {
   "cell_type": "code",
   "execution_count": 44,
   "id": "4f62c67a-9b79-4e17-8828-d62d55ec5349",
   "metadata": {},
   "outputs": [
    {
     "data": {
      "text/plain": [
       "8    214\n",
       "7    134\n",
       "9     82\n",
       "5     59\n",
       "6     53\n",
       "4     46\n",
       "3     40\n",
       "2     29\n",
       "1      6\n",
       "Name: ESG_GRADE, dtype: int64"
      ]
     },
     "execution_count": 44,
     "metadata": {},
     "output_type": "execute_result"
    }
   ],
   "source": [
    "ESG_train[\"ESG_GRADE\"].value_counts()"
   ]
  },
  {
   "cell_type": "code",
   "execution_count": 45,
   "id": "f1712c71-0030-44b0-99bd-d3509e49c25a",
   "metadata": {},
   "outputs": [],
   "source": [
    "## SMOTE-Tomek\n",
    "from imblearn.over_sampling import *\n",
    "# 10, 50, 100, 150, 200 단위로 늘리되, 기존 데이터 수 두 배 한수를 기준으로! \n",
    "sampling_strategy = {1: 30, 2: 70,3: 70,4: 120,5: 120,6: 120,7:170,9:170}\n",
    "X_ESG_train, Y_ESG_train = RandomOverSampler(random_state=0,sampling_strategy=sampling_strategy).fit_resample(ESG_train.drop(\"ESG_GRADE\",axis=1),ESG_train[\"ESG_GRADE\"])\n",
    "ESG_train=pd.concat([X_ESG_train, Y_ESG_train],axis=1)"
   ]
  },
  {
   "cell_type": "code",
   "execution_count": 46,
   "id": "4d9805d1-daf0-4c8c-9402-82845c89e518",
   "metadata": {},
   "outputs": [
    {
     "data": {
      "text/plain": [
       "8    214\n",
       "7    170\n",
       "9    170\n",
       "4    120\n",
       "6    120\n",
       "5    120\n",
       "3     70\n",
       "2     70\n",
       "1     30\n",
       "Name: ESG_GRADE, dtype: int64"
      ]
     },
     "execution_count": 46,
     "metadata": {},
     "output_type": "execute_result"
    }
   ],
   "source": [
    "Y_ESG_train.value_counts()"
   ]
  },
  {
   "cell_type": "code",
   "execution_count": 47,
   "id": "de9c3404-42f0-447b-be51-b70b03dcb84e",
   "metadata": {},
   "outputs": [],
   "source": [
    "## train, test set 내보내기\n",
    "ESG_train.to_csv(\"data/pipeline3/modeling_data/ESG_train.csv\",index=False,encoding=\"utf-8\")\n",
    "ESG_test.to_csv(\"data/pipeline3/modeling_data/ESG_test.csv\",index=False,encoding=\"utf-8\")"
   ]
  },
  {
   "cell_type": "code",
   "execution_count": 48,
   "id": "bea01d01-3e85-46b3-a907-092552f52407",
   "metadata": {},
   "outputs": [
    {
     "name": "stdout",
     "output_type": "stream",
     "text": [
      "<class 'pandas.core.frame.DataFrame'>\n",
      "RangeIndex: 1084 entries, 0 to 1083\n",
      "Data columns (total 24 columns):\n",
      " #   Column             Non-Null Count  Dtype  \n",
      "---  ------             --------------  -----  \n",
      " 0   industry_med_code  1084 non-null   float64\n",
      " 1   asset_sum_cat      1084 non-null   int64  \n",
      " 2   raw                1084 non-null   float64\n",
      " 3   water              1084 non-null   float64\n",
      " 4   energy             1084 non-null   float64\n",
      " 5   air_pollu          1084 non-null   float64\n",
      " 6   water_pollu        1084 non-null   float64\n",
      " 7   waste              1084 non-null   float64\n",
      " 8   chemical           1084 non-null   float64\n",
      " 9   water_reuse        1084 non-null   float64\n",
      " 10  waste_reuse        1084 non-null   float64\n",
      " 11  Outer_percentage   1084 non-null   float64\n",
      " 12  female_percentage  1084 non-null   float64\n",
      " 13  vote_percentage    1084 non-null   float64\n",
      " 14  attendance         1084 non-null   float64\n",
      " 15  op_uniformity      1084 non-null   float64\n",
      " 16  audit_num          1084 non-null   float64\n",
      " 17  reg_female_prob    1084 non-null   float64\n",
      " 18  female_money_prob  1084 non-null   float64\n",
      " 19  disabled           1084 non-null   float64\n",
      " 20  industry_accident  1084 non-null   float64\n",
      " 21  volunteer          1084 non-null   float64\n",
      " 22  exist_total        1084 non-null   int64  \n",
      " 23  ESG_GRADE          1084 non-null   int64  \n",
      "dtypes: float64(21), int64(3)\n",
      "memory usage: 203.4 KB\n"
     ]
    }
   ],
   "source": [
    "ESG_train.info()"
   ]
  },
  {
   "cell_type": "code",
   "execution_count": 49,
   "id": "a5dd9fe4-c39d-4f59-9bda-7178c0d93cb8",
   "metadata": {},
   "outputs": [
    {
     "name": "stdout",
     "output_type": "stream",
     "text": [
      "<class 'pandas.core.frame.DataFrame'>\n",
      "Int64Index: 284 entries, 0 to 283\n",
      "Data columns (total 24 columns):\n",
      " #   Column             Non-Null Count  Dtype  \n",
      "---  ------             --------------  -----  \n",
      " 0   code               284 non-null    object \n",
      " 1   industry_med_code  284 non-null    float64\n",
      " 2   asset_sum_cat      284 non-null    int64  \n",
      " 3   raw                284 non-null    float64\n",
      " 4   water              284 non-null    float64\n",
      " 5   energy             284 non-null    float64\n",
      " 6   air_pollu          284 non-null    float64\n",
      " 7   water_pollu        284 non-null    float64\n",
      " 8   waste              284 non-null    float64\n",
      " 9   chemical           284 non-null    float64\n",
      " 10  water_reuse        284 non-null    float64\n",
      " 11  waste_reuse        284 non-null    float64\n",
      " 12  Outer_percentage   284 non-null    float64\n",
      " 13  female_percentage  284 non-null    float64\n",
      " 14  vote_percentage    284 non-null    float64\n",
      " 15  attendance         284 non-null    float64\n",
      " 16  op_uniformity      284 non-null    float64\n",
      " 17  audit_num          284 non-null    float64\n",
      " 18  reg_female_prob    284 non-null    float64\n",
      " 19  female_money_prob  284 non-null    float64\n",
      " 20  disabled           284 non-null    float64\n",
      " 21  industry_accident  284 non-null    float64\n",
      " 22  volunteer          284 non-null    float64\n",
      " 23  exist_total        284 non-null    int64  \n",
      "dtypes: float64(21), int64(2), object(1)\n",
      "memory usage: 55.5+ KB\n"
     ]
    }
   ],
   "source": [
    "ESG_test.info()"
   ]
  },
  {
   "cell_type": "code",
   "execution_count": null,
   "id": "e91ec0d7-71cf-459a-9398-417975af1bc6",
   "metadata": {},
   "outputs": [],
   "source": [
    "## train, test set 내보내기\n",
    "to_bigquery(environ_train.\"esg_data.E_train\",BUCKET_NAME)\n",
    "to_bigquery(environ_test.\"esg_data.E_test\",BUCKET_NAME)\n",
    "## train, test set 내보내기\n",
    "to_bigquery(social_train.\"esg_data.S_train\",BUCKET_NAME)\n",
    "to_bigquery(socoial_test.\"esg_data.S_test\",BUCKET_NAME)\n",
    "## train, test set 내보내기\n",
    "to_bigquery(ESG_train.\"esg_data.ESG_train\",BUCKET_NAME)\n",
    "to_bigquery(ESG_test.\"esg_data.ESG_test\",BUCKET_NAME)\n",
    "## train, test set 내보내기\n",
    "to_bigquery(govern_train.\"esg_data.G_train\",BUCKET_NAME)\n",
    "to_bigquery(govern_test.\"esg_data.G_test\",BUCKET_NAME)"
   ]
  }
 ],
 "metadata": {
  "environment": {
   "kernel": "python3",
   "name": "common-cu110.m95",
   "type": "gcloud",
   "uri": "gcr.io/deeplearning-platform-release/base-cu110:m95"
  },
  "kernelspec": {
   "display_name": "Python 3",
   "language": "python",
   "name": "python3"
  },
  "language_info": {
   "codemirror_mode": {
    "name": "ipython",
    "version": 3
   },
   "file_extension": ".py",
   "mimetype": "text/x-python",
   "name": "python",
   "nbconvert_exporter": "python",
   "pygments_lexer": "ipython3",
   "version": "3.7.12"
  }
 },
 "nbformat": 4,
 "nbformat_minor": 5
}
